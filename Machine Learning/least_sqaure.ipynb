{
 "cells": [
  {
   "cell_type": "markdown",
   "metadata": {},
   "source": [
    "# 最小二乘法\n",
    "\n",
    "最小二乘法又称为最小平方法，是一种数学优化建模方法。它通过最小化误差的平方和寻找数据的最佳函数匹配。最小二乘法是对线性方程组，即方程个数比未知数更多的方程组，以回归分析求得近似解的标准方法。在这个解决方案中，最小二乘法演算为每一方程的结果中，将残差平方和的总和最小化。\n",
    "\n",
    "最小二乘法分为线性和非线性，取决于所有未知数中的残差是否为线性。线性的最小二乘问题发生在统计回归分析中，具有一个封闭形式的解决方案。非线性的问题通常由迭代细致化来解决，每次迭代中，系统由线性近似，因此这两种情况下核心演算是相同的。\n",
    "\n",
    "## 1  历史背景\n",
    "\n",
    "最小二乘法发展于天文学和大地测量学领域，科学家和数学家尝试为大航海探索时期的海洋航行挑战提供解决方案。准确描述天体的行为是船舰在大海洋上航行的关键，水手不能再依靠陆上目标导航作航行。\n",
    "\n",
    "这个方法是在十八世纪期间一些进步的集大成：\n",
    "* 不同观测值的组合是真实值的最佳估计；多次观测会减少误差而不是增加，也许在1722年由Roger Cotes首先阐明。\n",
    "* 在相同条件下采取的不同观察结果，与只尝试记录一次最精确的观察结果是对立的。这个方法被称为平均值方法。托马斯·马耶尔（Tobias Mayer）在1750年研究月球的天平动时，特别使用这种方法，而拉普拉斯（Pierre-Simon Laplace）在1788年他的工作成果中以此解释木星和土星的运动差异。\n",
    "* 在不同条件下进行的不同观测值组合。该方法被称为最小绝对偏差法，出现在Roger Joseph Boscovich在1757年他对地球形体的著名作品，而拉普拉斯在1799年也表示了同样的问题。\n",
    "* 评定对误差达到最小的解决方案标准，拉普拉斯指明了误差的概率密度的数学形式，并定义了误差最小化的估计方法。为此，拉普拉斯使用了一双边对称的指数分布，现在称为拉普拉斯分布作为误差分布的模型，并将绝对偏差之和作为估计误差。他认为这是他最简单的假设，他期待得出算术平均值而成为最佳的估计。可相反地，他的估计是后验中位数。\n",
    "\n",
    "1801年，意大利天文学家朱塞普·皮亚齐发现了第一颗小行星谷神星。经过40天的追踪观测后，由于谷神星运行至太阳背后，使得皮亚齐失去了谷神星的位置。随后全世界的科学家利用皮亚齐的观测数据开始寻找谷神星，但是根据大多数人计算的结果来寻找谷神星都没有结果。当年24岁的高斯也计算了谷神星的轨道。奥地利天文学家海因里希·奥伯斯根据高斯计算出来的轨道重新发现了谷神星。\n",
    "\n",
    "高斯使用的最小二乘法的方法发表于1809年他的著作《天体运动论》中，而法国科学家勒让德于1806年独立发现“最小二乘法”，但因不为世人所知而没没无闻。两人曾为谁最早创立最小二乘法原理发生争执。\n",
    "\n",
    "1829年，高斯提供了最小二乘法的优化效果强于其他方法的证明，见高斯-马尔可夫定理。\n",
    "\n",
    "## 2  问题引入\n",
    "\n",
    "如果对同一目标例如手机宽度通过尺子测量长度，通过同一尺子不同测量员或者不同尺子同一测量员得到的结果都有可能不同，那么如何通过所有的测量结果来得到准确的真值呢？\n",
    "\n",
    "假设测量结果分别为72.5mm、72.2mm、72.9mm、72.4mm、72.5mm。\n",
    "\n",
    "只要做过初中物理实验的都知道，通常都会对同一实验进行多次重复操作，把得到的结果进行平均求和，最后的结果作为实验的准确结果\n",
    "\n",
    "$$\\overline{x}=\\frac{72.5+72.2+72.9+72.4+72.5}{5}=72.5$$\n",
    "\n",
    "直觉告诉我们取平均值是正确的，那么这么做得依据是什么呢？\n",
    "\n",
    "再比如，我们知道营业税税收总额与社会商品零售总额有关，假设收集了如下数据\n",
    "\n",
    "| 序号  | 社会商品零售总额 | 营业税税收总额 |\n",
    "| :---: | :--------------: | :------------: |\n",
    "|   1   |      142.08      |      3.93      |\n",
    "|   2   |      177.30      |      5.96      |\n",
    "|   3   |      204.68      |      7.85      |\n",
    "|   4   |      242.88      |      9.82      |\n",
    "|   5   |      316.24      |     12.50      |\n",
    "|   6   |      341.99      |     15.55      |\n",
    "|   7   |      332.69      |     15.79      |\n",
    "|   8   |      389.29      |     16.39      |\n",
    "|   9   |      453.40      |     18.45      |\n",
    "\n",
    "如何通过这些已有数据在给定社会商品零售总额的情况下预测营业税税收总额呢？\n",
    "\n",
    "## 3  问题求解\n",
    "\n",
    "我们将第一个问题用公式进行描述，假设要猜测的真实值是$y$，测量值则为$y_i$，上述求平均公式则为：\n",
    "\n",
    "$$\\displaystyle{\\frac{\\sum y_i}{n}}=y$$\n",
    "\n",
    "公式可以转化为：\n",
    "\n",
    "$$\\sum (y_i-y)=0$$\n",
    "\n",
    "满足上式时，误差平方和取得最小值，因为导数为0\n",
    "\n",
    "$$\\frac{d}{dy}S_{\\epsilon^2}=\\frac{d}{dy}\\sum (y_i-y)^2=0$$\n",
    "\n",
    "至此，我们明白求平均的实质是希望预测值与测量值的误差平方和最小，最小二乘法也就是最小平方法，二乘实际上也是日语中平方的意思。\n",
    "\n",
    "### 3.1  方程求解\n",
    "\n",
    "第二个问题中，社会商品零售总额$x$是自变量，其值是可以控制或精确测量的，是非随机变量；营业税税收总额$y$是因变量，取值不能事先确定，是随机变量。假定它们具有线性相关关系，$y_i$的表达式：\n",
    "\n",
    "$${\\displaystyle{y_i=\\beta_0+\\beta_1x_i+\\epsilon_i}}$$\n",
    "\n",
    "其中$\\beta_0,\\beta_1$称为回归系数，由于它们未知，因此需要从收集到的数据出发进行估计，记为$\\hat{\\beta_0},\\hat{\\beta_1}$。\n",
    "\n",
    "通过最小二乘法估计回归系数，目标是希望偏差平方和$Q$达到最小：\n",
    "\n",
    "$$Q(\\beta_0,\\beta_1)=\\sum_{i=1}^n (y_i-\\beta_0-\\beta_1x_i)^2$$\n",
    "\n",
    "由于$Q$是一个非负二次型，因此可通过令$Q$对$\\beta_0,\\beta_1$的偏导为零来求：\n",
    "\n",
    "$$\n",
    "\\begin{cases}\n",
    "    {\\displaystyle \\frac{\\partial Q}{\\partial \\beta_0}=-2\\sum(y_i-\\beta_0-\\beta_1x_i)} \\\\\n",
    "    \\\\\n",
    "    {\\displaystyle \\frac{\\partial Q}{\\partial \\beta_1}=-2\\sum(y_i-\\beta_0-\\beta_1x_i)x_i}\n",
    "\\end{cases}\n",
    "$$\n",
    "\n",
    "经整理有\n",
    "\n",
    "$$\n",
    "\\begin{cases}\n",
    "    {\\displaystyle n\\beta_0 + n\\overline{x}\\cdot\\beta_1}=n\\overline{y} \\\\\n",
    "    \\\\\n",
    "    {\\displaystyle n\\overline{x}\\beta_0+\\sum{x_i^2\\beta_1}=\\sum{x_iy_i}}\n",
    "\\end{cases}\n",
    "$$\n",
    "\n",
    "两式合并后\n",
    "\n",
    "$$\n",
    "\\begin{aligned}\n",
    "    \\left( \\sum{x_i^2} -n\\overline{x}^2 \\right)\\beta_1&=\\sum{x_iy_i}-n\\overline{x}\\overline{y}\\\\\n",
    "    \\left( \\sum{x_i^2} + \\sum{\\overline{x}^2}-2n\\overline{x}^2 \\right)\\beta_1&=\\sum{x_iy_i}-\\sum{x_i}\\overline{y}\\\\\n",
    "    \\left( \\sum{x_i^2} + \\sum{\\overline{x}^2}-2\\sum{x_i}\\overline{x} \\right)\\beta_1&=\\sum{x_iy_i}-\\sum{x_i}\\overline{y}+n\\overline{x}\\overline{y}-n\\overline{x}\\overline{y}\\\\\n",
    "    \\left( \\sum{(x_i -\\overline{x})^2} \\right)\\beta_1&=\\sum{x_iy_i}-\\sum{x_i}\\overline{y}+\\sum{\\overline{x}y_i}-\\sum\\overline{x}\\overline{y}\\\\\n",
    "    \\left( \\sum{(x_i -\\overline{x})^2} \\right)\\beta_1&=\\sum{(x_i-\\overline{x})(y_i-\\overline{y})}\\\\\n",
    "    \\beta_1&=\\frac{cov(x,y)}{Var(x)}\n",
    "\\end{aligned}\n",
    "$$\n",
    "\n",
    "实际上 $\\beta_1$ 是 $x$ 与 $y$ 的协方差与 $x$ 方差的商\n",
    "\n",
    "通过以上的方法可以推导出更多特征的求解方法，通过高斯消元法可以求解多元线性方程组，求得解析解。"
   ]
  },
  {
   "cell_type": "code",
   "execution_count": 154,
   "metadata": {},
   "outputs": [],
   "source": [
    "x = np.array([142.08, 177.30, 204.68, 242.88, 316.24, 341.99, 332.69, 389.29, 453.40])\n",
    "y = np.array([3.93, 5.96, 7.85, 9.82, 12.50, 15.55, 15.79, 16.39, 18.45])"
   ]
  },
  {
   "cell_type": "code",
   "execution_count": 148,
   "metadata": {},
   "outputs": [
    {
     "data": {
      "text/plain": [
       "(0.04867773628668675, -2.2609874555936926)"
      ]
     },
     "execution_count": 148,
     "metadata": {},
     "output_type": "execute_result"
    }
   ],
   "source": [
    "# 通过代数方法求解\n",
    "# numpy的协方差默认是样本方差，无偏的，自由度n-1，因此要加bias = True\n",
    "beta_0 = np.cov(x, y, bias = True)[0,1] / np.var(x)  \n",
    "beta_1 = np.sum(y) / 9 - np.sum(x) / 9 * beta_0\n",
    "beta_0, beta_1\n",
    "\n",
    "# 通过公式计算，与上面相同\n",
    "# a = np.sum(np.multiply(x, y)) - np.sum(x) * np.sum(y) / 9\n",
    "# b = np.sum(np.multiply(x, x)) - np.sum(x) * np.sum(x) / 9"
   ]
  },
  {
   "cell_type": "markdown",
   "metadata": {},
   "source": [
    "同时也可以通过矩阵法求解，将多个方程看做一个整体进行求解。\n",
    "\n",
    "$$\n",
    "{\\displaystyle \n",
    "    {\\begin{pmatrix}\n",
    "    1& x_{11}& \\cdots & x_{1j}\\cdots & x_{1q}\\\\\n",
    "    1& x_{21}& \\cdots & x_{2j}\\cdots & x_{2q}\\\\\n",
    "    \\vdots \\\\\n",
    "    1& x_{i1}& \\cdots & x_{ij}\\cdots & x_{iq}\\\\\n",
    "    \\vdots \\\\\n",
    "    1& x_{n1}& \\cdots & x_{nj}\\cdots & x_{nq}\n",
    "    \\end{pmatrix}} \n",
    "    \\cdot \n",
    "    {\\begin{pmatrix}\\beta_{0}\\\\\\beta_{1}\\\\\\beta_{2}\\\\\\vdots \\\\\\beta_{j}\\\\\\vdots \\\\\\beta_{q}\\end{pmatrix}}=\n",
    "    {\\begin{pmatrix}y_{1}\\\\y_{2}\\\\\\vdots \\\\y_{i}\\\\\\vdots \\\\y_{n}\\end{pmatrix}}}\n",
    "$$\n",
    "\n",
    "矩阵表达式为：\n",
    "$$\n",
    "    Q=min{||Xw-y||}^2\n",
    "$$\n",
    "\n",
    "求 $w$ 的最小二乘估计，即求 $\\frac{\\partial Q}{\\partial w}$ 的零点。其中 $y$ 是 $m\\times 1$ 列向量，$X$ 是 $m\\times n$ 矩阵，$w$是$n\\times 1$列向量，$Q$是标量。\n",
    "\n",
    "将向量模平方改写成向量与自身的内积：\n",
    "$$Q=(Xw-y)^T(Xw-y)$$\n",
    "\n",
    "求微分：\n",
    "$$\n",
    "\\begin{aligned}\n",
    "    dQ&=(Xdw)^T(Xw-y)+(Xw-y)^T(Xdw)\\\\\n",
    "    &=2(Xw-y)^T(Xdw)\n",
    "\\end{aligned}\n",
    "$$\n",
    "这里是因为两个向量的内积满足$u^Tv=v^Tu$。\n",
    "\n",
    "导数与微分的关系式\n",
    "$$dQ={\\frac{\\partial Q}{\\partial w}}^Tdw$$\n",
    "得到\n",
    "$${\\frac{\\partial Q}{\\partial w}}=2(Xw-y)(X)^T=0$$\n",
    "求解可得\n",
    "$$\n",
    "\\begin{aligned}\n",
    "    X^TXw&=X^Ty\\\\\n",
    "    w&=(X^TX)^{-1}X^Ty\n",
    "\\end{aligned}\n",
    "$$\n"
   ]
  },
  {
   "cell_type": "code",
   "execution_count": 159,
   "metadata": {},
   "outputs": [
    {
     "data": {
      "text/plain": [
       "array([ 0.04867774, -2.26098746])"
      ]
     },
     "execution_count": 159,
     "metadata": {},
     "output_type": "execute_result"
    }
   ],
   "source": [
    "import numpy as np\n",
    "\n",
    "# 通过矩阵法实现最小二乘法\n",
    "def least_sqaure(X, Y):\n",
    "    return (X.T * X).I * X.T * Y\n",
    "\n",
    "X = np.mat(x)    \n",
    "X = np.append(np.ones((1, 9)), X, axis = 0).T\n",
    "Y = np.mat(y).T\n",
    "beta = np.array(least_sqaure(X, Y)).flatten()[::-1]\n",
    "beta"
   ]
  },
  {
   "cell_type": "code",
   "execution_count": 161,
   "metadata": {},
   "outputs": [
    {
     "data": {
      "image/png": "[encoded data removed]",
      "text/plain": [
       "<Figure size 432x288 with 1 Axes>"
      ]
     },
     "metadata": {
      "needs_background": "light"
     },
     "output_type": "display_data"
    }
   ],
   "source": [
    "import matplotlib.pyplot as plt\n",
    "\n",
    "\n",
    "plt.plot(x, y, 'bo', label='noise')\n",
    "plt.plot(x, np.poly1d(beta)(x), label='fitted curve')\n",
    "plt.show()"
   ]
  }
 ],
 "metadata": {
  "kernelspec": {
   "display_name": "Python 3",
   "language": "python",
   "name": "python3"
  },
  "language_info": {
   "codemirror_mode": {
    "name": "ipython",
    "version": 3
   },
   "file_extension": ".py",
   "mimetype": "text/x-python",
   "name": "python",
   "nbconvert_exporter": "python",
   "pygments_lexer": "ipython3",
   "version": "3.9.5"
  }
 },
 "nbformat": 4,
 "nbformat_minor": 2
}
